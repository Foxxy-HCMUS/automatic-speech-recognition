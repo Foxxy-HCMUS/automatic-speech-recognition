{
 "cells": [
  {
   "cell_type": "code",
   "execution_count": null,
   "metadata": {
    "metadata": {}
   },
   "outputs": [],
   "source": [
    "from IPython.display import Audio, Video, HTML\n",
    "import glob\n",
    "\n",
    "\n",
    "directory_path = '/space/hotel/phit/data/audios'  # Replace with the actual directory path\n",
    "\n",
    "file_paths = glob.glob(directory_path + '/*')\n",
    "files = [path for path in file_paths if os.path.isfile(path)]\n",
    "\n",
    "Audio(files[0])"
   ]
  }
 ],
 "metadata": {
  "kernelspec": {
   "display_name": "speech",
   "language": "python",
   "name": "python3"
  },
  "language_info": {
   "codemirror_mode": {
    "name": "ipython",
    "version": 3
   },
   "file_extension": ".py",
   "mimetype": "text/x-python",
   "name": "python",
   "nbconvert_exporter": "python",
   "pygments_lexer": "ipython3",
   "version": "3.9.19"
  }
 },
 "nbformat": 4,
 "nbformat_minor": 2
}
